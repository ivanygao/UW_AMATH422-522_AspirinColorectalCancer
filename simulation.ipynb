{
 "cells": [
  {
   "cell_type": "code",
   "execution_count": 1,
   "id": "8fe163ec-29f2-414f-8cfc-ec7fc47af4d2",
   "metadata": {},
   "outputs": [],
   "source": [
    "import numpy as np\n",
    "from scipy.integrate import solve_ivp\n",
    "import scipy.linalg as la\n",
    "import scipy.optimize as opt\n",
    "import matplotlib.pylab as plt\n",
    "np.set_printoptions(precision=8, edgeitems=5, linewidth=1000, threshold=2000, suppress=True)\n",
    "colors = ['r', 'b', 'g', 'c', 'm', 'k']  # plot colors"
   ]
  },
  {
   "cell_type": "code",
   "execution_count": 2,
   "id": "5ffc0562-e64b-4b69-ac29-31d9a2775f0f",
   "metadata": {},
   "outputs": [],
   "source": [
    "#setup\n",
    "m = 64\n",
    "Lx = 20\n",
    "xspan_with_boundary = np.linspace(-Lx/2, Lx/2, m + 1)\n",
    "xspan = xspan_with_boundary[:-1]\n",
    "\n",
    "n = 64\n",
    "Ly = 20\n",
    "yspan_with_boundary = np.linspace(-Ly/2, Ly/2, n + 1)\n",
    "yspan = yspan_with_boundary[:-1]\n",
    "\n",
    "N = n * m\n",
    "\n",
    "# initial conditions\n",
    "u = np.full((n,m), 1) # u is the stage of crypts in the crypts mutation diagram. Possible value: 1, 2, 3, 4, 5, 6\n",
    "v = np.array(range(N)).reshape(n,m) # v is the group id where each crypts belongs to. If multiple crypts has the same group id, they they are one big crypt. Type == Integer"
   ]
  }
 ],
 "metadata": {
  "kernelspec": {
   "display_name": "Python 3 (ipykernel)",
   "language": "python",
   "name": "python3"
  },
  "language_info": {
   "codemirror_mode": {
    "name": "ipython",
    "version": 3
   },
   "file_extension": ".py",
   "mimetype": "text/x-python",
   "name": "python",
   "nbconvert_exporter": "python",
   "pygments_lexer": "ipython3",
   "version": "3.8.10"
  }
 },
 "nbformat": 4,
 "nbformat_minor": 5
}
