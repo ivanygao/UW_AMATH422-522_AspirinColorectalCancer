{
 "cells": [
  {
   "cell_type": "code",
   "execution_count": 1,
   "id": "87ce5f03-506c-4f57-9b78-d8fe8846ef8f",
   "metadata": {},
   "outputs": [],
   "source": [
    "import numpy as np\n",
    "from sympy import symbols, Matrix\n",
    "from scipy.integrate import solve_ivp\n",
    "import scipy.linalg as la\n",
    "import matplotlib.pylab as plt\n",
    "from sympy import symbols, Eq, solve"
   ]
  },
  {
   "cell_type": "markdown",
   "id": "825aa4b6-c8f8-4873-b07b-f92692a576d7",
   "metadata": {},
   "source": [
    "## Define equilibrium point solver"
   ]
  },
  {
   "cell_type": "code",
   "execution_count": null,
   "id": "1e0a3447-ee9f-4fd0-ace8-b1cf167c4d09",
   "metadata": {},
   "outputs": [],
   "source": [
    "def find_equilibrium_points(ode_system):\n",
    "    equilibrium_points = []\n",
    "    def equations(y):\n",
    "        return ode_system(y, 0)  \n",
    "    initial_guesses = [[0, 0]]  \n",
    "    for guess in initial_guesses:\n",
    "        solution = fsolve(equations, guess)\n",
    "        equilibrium_points.append(solution)\n",
    "    return np.array(equilibrium_points)\n",
    "\n",
    "equilibrium_points = find_equilibrium_points(ode_system)\n",
    "print(\"Equilibrium points:\", equilibrium_points)"
   ]
  },
  {
   "cell_type": "markdown",
   "id": "a3ff15df-3aa0-47c2-93e4-abf2dfe57a67",
   "metadata": {},
   "source": [
    "## Define ODE system and equilibrium condition $\\frac{dn_{i}}{dt} = 0$"
   ]
  },
  {
   "cell_type": "code",
   "execution_count": 3,
   "id": "620281ba-fbf3-409c-bd59-55db59d9f032",
   "metadata": {},
   "outputs": [],
   "source": [
    "n1, n2, n3, n4, n5 = symbols('n1 n2 n3 n4 n5')\n",
    "\n",
    "R12, R14, R23, R25, R36, R45, R56, KA, KR, gamma3, gamma4, gamma5, delta = symbols(\n",
    "    'R12 R14 R23 R25 R36 R45 R56 KA KR gamma3 gamma4 gamma5 delta'\n",
    ")\n",
    "\n",
    "sum_n345 = n3 + n4 + n5\n",
    "CC_A = 1 - sum_n345 / KA\n",
    "CC_R = 1 - sum_n345 / KR\n",
    "\n",
    "dn1dt = -(R12 + R14) * n1\n",
    "dn2dt = R12 * n1 - (R23 + R25) * n2\n",
    "dn3dt = R23 * n2 - R36 * n3 + gamma3 * n3 * CC_A - delta * n3\n",
    "dn4dt = R14 * n1 - R45 * n4 + gamma4 * n4 * CC_R - delta * n4\n",
    "dn5dt = R25 * n2 + R45 * n4 - R56 * n5 + gamma5 * n5 * CC_R - delta * n5\n",
    "\n",
    "equilibrium_eqs = [\n",
    "    Eq(dn1dt, 0),\n",
    "    Eq(dn2dt, 0),\n",
    "    Eq(dn3dt, 0),\n",
    "    Eq(dn4dt, 0),\n",
    "    Eq(dn5dt, 0)\n",
    "]"
   ]
  },
  {
   "cell_type": "code",
   "execution_count": 4,
   "id": "8b759f2e-3fce-46e2-8306-8654569e989e",
   "metadata": {},
   "outputs": [],
   "source": [
    "r1 = 156\n",
    "u = 10e-7 * r1\n",
    "mu = 10e-9 * r1\n",
    "gamma3_val = 0.2\n",
    "gamma4_val = 0.07\n",
    "gamma5_val = 0.07\n",
    "delta_val = 0.05\n",
    "KA_val = 562\n",
    "KR_val = 1780\n",
    "\n",
    "parameter_values = {\n",
    "    R12: 2 * u,\n",
    "    R14: mu,\n",
    "    R23: u,\n",
    "    R25: mu,\n",
    "    R36: mu,\n",
    "    R45: 2 * u,\n",
    "    R56: u,\n",
    "    KA: KA_val,\n",
    "    KR: KR_val,\n",
    "    gamma3: gamma3_val,\n",
    "    gamma4: gamma4_val,\n",
    "    gamma5: gamma5_val,\n",
    "    delta: delta_val,\n",
    "}"
   ]
  },
  {
   "cell_type": "markdown",
   "id": "367a8657-b33c-4543-9ad7-8ee7c9a53f7e",
   "metadata": {},
   "source": [
    "## solve for equilibrium points using given parameters"
   ]
  },
  {
   "cell_type": "code",
   "execution_count": 5,
   "id": "b10c3e2c-a882-4f1f-9486-5f4c0c8b94ca",
   "metadata": {},
   "outputs": [
    {
     "name": "stdout",
     "output_type": "stream",
     "text": [
      "Equilibrium points: [(0.0, 0.0, 0.0, -500.637714285714, 1001.27542857143), (0.0, 0.0, 0.0, 0.0, 0.0), (0.0, 0.0, 0.0, 0.0, 504.604571428571), (0.0, 0.0, 421.495616400000, 0.0, 0.0)]\n"
     ]
    }
   ],
   "source": [
    "equilibrium_eqs_substituted = [eq.subs(parameter_values) for eq in equilibrium_eqs]\n",
    "equilibrium_points = solve(equilibrium_eqs_substituted, (n1, n2, n3, n4, n5))\n",
    "\n",
    "print(\"Equilibrium points:\", equilibrium_points)"
   ]
  }
 ],
 "metadata": {
  "kernelspec": {
   "display_name": "Python 3 (ipykernel)",
   "language": "python",
   "name": "python3"
  },
  "language_info": {
   "codemirror_mode": {
    "name": "ipython",
    "version": 3
   },
   "file_extension": ".py",
   "mimetype": "text/x-python",
   "name": "python",
   "nbconvert_exporter": "python",
   "pygments_lexer": "ipython3",
   "version": "3.12.7"
  }
 },
 "nbformat": 4,
 "nbformat_minor": 5
}
