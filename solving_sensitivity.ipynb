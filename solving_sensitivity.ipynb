{
 "cells": [
  {
   "cell_type": "code",
   "execution_count": 1,
   "id": "145e296b-efc6-41ba-a45c-5d52f3e10dd0",
   "metadata": {},
   "outputs": [],
   "source": [
    "import numpy as np\n",
    "from sympy import symbols, Matrix\n",
    "from scipy.integrate import solve_ivp\n",
    "import scipy.linalg as la\n",
    "import matplotlib.pylab as plt"
   ]
  },
  {
   "cell_type": "code",
   "execution_count": 2,
   "id": "aea735b8-c93b-4d57-ab62-14650fbaeb8e",
   "metadata": {},
   "outputs": [
    {
     "name": "stdout",
     "output_type": "stream",
     "text": [
      "Sensitivity matrix S =\n",
      " [[0.0000e+00 0.0000e+00 2.1565e-06 0.0000e+00 0.0000e+00 0.0000e+00]\n",
      " [0.0000e+00 0.0000e+00 1.0389e-03 0.0000e+00 0.0000e+00 0.0000e+00]\n",
      " [0.0000e+00 0.0000e+00 1.0000e+00 0.0000e+00 0.0000e+00 0.0000e+00]\n",
      " [0.0000e+00 0.0000e+00 0.0000e+00 0.0000e+00 0.0000e+00 0.0000e+00]\n",
      " [0.0000e+00 0.0000e+00 0.0000e+00 0.0000e+00 0.0000e+00 0.0000e+00]\n",
      " [0.0000e+00 0.0000e+00 1.3565e-06 0.0000e+00 0.0000e+00 0.0000e+00]]\n",
      "Max Value: 1.0\n",
      "Max Position: (2, 2)\n",
      "\n",
      "elasticity matrix E =\n",
      " [[0. 0. 0. 0. 0. 0.]\n",
      " [0. 0. 0. 0. 0. 0.]\n",
      " [0. 0. 1. 0. 0. 0.]\n",
      " [0. 0. 0. 0. 0. 0.]\n",
      " [0. 0. 0. 0. 0. 0.]\n",
      " [0. 0. 0. 0. 0. 0.]]\n",
      "Max Value: (1+0j)\n",
      "Max Position: (2, 2)\n",
      "\n"
     ]
    },
    {
     "data": {
      "text/plain": [
       "Text(0.5, 1.0, 'Elasticity matrix binary heat map')"
      ]
     },
     "execution_count": 2,
     "metadata": {},
     "output_type": "execute_result"
    },
    {
     "data": {
      "image/png": "[encoded data removed]",
      "text/plain": [
       "<Figure size 640x480 with 1 Axes>"
      ]
     },
     "metadata": {},
     "output_type": "display_data"
    }
   ],
   "source": [
    "N_crypts = 1e+7\n",
    "r1 = 156\n",
    "u = 10e-7 * r1\n",
    "mu = 10e-9 * r1\n",
    "gamma3 = 0.2\n",
    "gamma4 = 0.07\n",
    "gamma5 = 0.07\n",
    "delta = 0.05\n",
    "KA = 562\n",
    "KR = 1780\n",
    "\n",
    "R12 = 2*u\n",
    "R14 = mu\n",
    "R23 = u\n",
    "R25 = mu\n",
    "R36 = mu\n",
    "R45 = 2*u \n",
    "R56 = u\n",
    "\n",
    "\n",
    "# define the transition matrix A\n",
    "A = np.array([\n",
    "    [1 - (R12 + R14), 0, 0, 0, 0, 0],\n",
    "    [R12, 1-(R23 + R25), 0, 0, 0, 0],\n",
    "    [0, R23, (1-R36)+gamma3-delta, 0, 0, R36],\n",
    "    [R14, 0, 0, (1-R45)+gamma4-delta, 0, 0],\n",
    "    [0, R25, 0, R45, (1-R56)+gamma5-delta, R56],\n",
    "    [0, 0, 0, 0, 0, 0]\n",
    "])\n",
    "\n",
    "l,v = la.eig(A)\n",
    "\n",
    "idx=np.argsort(np.abs(l))\n",
    "l_sorted=l[idx]  \n",
    "v_sorted=v[:,idx]   #rearrange eigenvectors in same order\n",
    "lambda_max= l_sorted[-1] #dom eigenvalue\n",
    "v_max = v_sorted[:,-1] #dom eigenvector\n",
    "\n",
    "l,v_left = la.eig(np.matrix.transpose(A))\n",
    "idx=np.argsort(np.abs(l))\n",
    "l_sorted=l[idx]\n",
    "v_left_sorted=v_left[:,idx]   #rearrange eigenvectors in same order\n",
    "v_left_max = v_left_sorted[:,-1]\n",
    "\n",
    "As = np.outer(v_left_max,v_max)/np.dot(v_left_max,v_max)\n",
    "\n",
    "# set print format so we can see the necessary decimals\n",
    "np.set_printoptions(precision=4, suppress=False)\n",
    "\n",
    "# Print sensitivity matrix\n",
    "print(\"Sensitivity matrix S =\\n\", np.real(As))\n",
    "max_value_As = np.max(As)\n",
    "max_position_As = np.unravel_index(np.argmax(As), As.shape)\n",
    "print(\"Max Value:\", max_value_As)\n",
    "print(\"Max Position:\", max_position_As)\n",
    "print()\n",
    "\n",
    "# Print elasticity (for fun)\n",
    "E = A * As / lambda_max\n",
    "print(\"elasticity matrix E =\\n\", np.real(E))\n",
    "max_value_E = np.max(E)\n",
    "max_position_E = np.unravel_index(np.argmax(E), E.shape)\n",
    "print(\"Max Value:\", max_value_E)\n",
    "print(\"Max Position:\", max_position_E)\n",
    "print()\n",
    "\n",
    "# Print elasticity\n",
    "plt.spy(np.real(E))\n",
    "plt.title('Elasticity matrix binary heat map')"
   ]
  }
 ],
 "metadata": {
  "kernelspec": {
   "display_name": "Python 3 (ipykernel)",
   "language": "python",
   "name": "python3"
  },
  "language_info": {
   "codemirror_mode": {
    "name": "ipython",
    "version": 3
   },
   "file_extension": ".py",
   "mimetype": "text/x-python",
   "name": "python",
   "nbconvert_exporter": "python",
   "pygments_lexer": "ipython3",
   "version": "3.12.7"
  }
 },
 "nbformat": 4,
 "nbformat_minor": 5
}
